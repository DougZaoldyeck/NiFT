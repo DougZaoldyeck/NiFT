{
 "cells": [
  {
   "cell_type": "code",
   "execution_count": 29,
   "metadata": {},
   "outputs": [
    {
     "name": "stdout",
     "output_type": "stream",
     "text": [
      "603.9916799068451\n"
     ]
    }
   ],
   "source": [
    "from ecc.curve import Curve25519\n",
    "from ecc.key import gen_keypair\n",
    "from ecc.cipher import ElGamal\n",
    "from Crypto.Random import get_random_bytes\n",
    "import time\n",
    "\n",
    "# generate a set of AES keys, take 1000 as an example\n",
    "AES_keys = []\n",
    "for i in range (0, 4999):\n",
    "    AES_keys.append(get_random_bytes(32))\n",
    "\n",
    "# regenerate a new pair of asymmetric keys\n",
    "# reencrypt the AES keys with the new pk_t\n",
    "t0 = time.time()\n",
    "sk_t, pk_t = gen_keypair(Curve25519)\n",
    "cipher_elg = ElGamal(Curve25519)\n",
    "for i in range (0, 4999):\n",
    "    c1, c2 = cipher_elg.encrypt(AES_keys[i], pk_t)\n",
    "RE_enc_time = time.time() - t0\n",
    "\n",
    "print(RE_enc_time)"
   ]
  },
  {
   "cell_type": "code",
   "execution_count": null,
   "metadata": {},
   "outputs": [],
   "source": [
    "(1k, 87.60059809684753), (2k, 144.70202684402466), (3k, 214.0727653503418), (4k, 339.09677815437317), (5k, 603.9916799068451)"
   ]
  },
  {
   "cell_type": "code",
   "execution_count": 26,
   "metadata": {},
   "outputs": [
    {
     "name": "stdout",
     "output_type": "stream",
     "text": [
      "Point(X=40415573078207244978097194906868309964603051889861998953878131298048251040443, Y=28587907447324110248752911714162620170306471894495795094049199162228460090474, Curve=Curve25519) Point(X=31846350791124323336944484699743872065188859885703536638337103770345392817220, Y=55080304002775737029212845758164299959632276618394824779077127440344606599249, Curve=Curve25519)\n"
     ]
    }
   ],
   "source": [
    "print(c1, c2)"
   ]
  },
  {
   "cell_type": "code",
   "execution_count": null,
   "metadata": {},
   "outputs": [],
   "source": []
  }
 ],
 "metadata": {
  "kernelspec": {
   "display_name": "Python 3",
   "language": "python",
   "name": "python3"
  },
  "language_info": {
   "codemirror_mode": {
    "name": "ipython",
    "version": 3
   },
   "file_extension": ".py",
   "mimetype": "text/x-python",
   "name": "python",
   "nbconvert_exporter": "python",
   "pygments_lexer": "ipython3",
   "version": "3.8.3"
  }
 },
 "nbformat": 4,
 "nbformat_minor": 4
}
